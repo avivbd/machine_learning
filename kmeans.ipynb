{
 "cells": [
  {
   "cell_type": "code",
   "execution_count": 1,
   "metadata": {},
   "outputs": [],
   "source": [
    "%matplotlib inline"
   ]
  },
  {
   "cell_type": "code",
   "execution_count": 2,
   "metadata": {},
   "outputs": [],
   "source": [
    "import pandas as pd\n",
    "import numpy as np\n",
    "import matplotlib.pyplot as plt\n",
    "import seaborn as sns\n",
    "from scipy import stats"
   ]
  },
  {
   "cell_type": "markdown",
   "metadata": {},
   "source": [
    "# Make multi-modal data"
   ]
  },
  {
   "cell_type": "code",
   "execution_count": 29,
   "metadata": {},
   "outputs": [],
   "source": [
    "nrows = 10000\n",
    "ncols = 2"
   ]
  },
  {
   "cell_type": "code",
   "execution_count": 30,
   "metadata": {},
   "outputs": [],
   "source": [
    "def make_dist(n_centers = 3, print_=True, plot=True, seed=None):    \n",
    "    if seed:\n",
    "        np.random.seed(seed)\n",
    "    means = np.random.randint(-20, 20, (n_centers, ncols))\n",
    "    covs = np.random.randint(1, 5, (n_centers, ncols, ncols) )\n",
    "    for i in range(n_centers):\n",
    "        covs[i] = np.dot(covs[i], covs[i].T)\n",
    "    ar = np.zeros((nrows, ncols))\n",
    "    for i in range(nrows):\n",
    "        h = np.random.choice(n_centers)\n",
    "        rand_mean, rand_cov = means[h], covs[h]\n",
    "        ar[i,:] = np.random.multivariate_normal(rand_mean, rand_cov)  \n",
    "    if print_:\n",
    "        print 'means='\n",
    "        print means\n",
    "        print 'covs='\n",
    "        print covs\n",
    "    if plot:\n",
    "        if ncols>2:\n",
    "            print 'can only plot 2d histograms'\n",
    "        else:\n",
    "            plt.hist2d(ar[:,0], ar[:,1], bins=(50,50));\n",
    "    return ar"
   ]
  },
  {
   "cell_type": "code",
   "execution_count": 33,
   "metadata": {
    "scrolled": false
   },
   "outputs": [
    {
     "name": "stdout",
     "output_type": "stream",
     "text": [
      "means=\n",
      "[[ 16 -14]\n",
      " [ 14   3]\n",
      " [ -6   4]]\n",
      "covs=\n",
      "[[[18 15]\n",
      "  [15 17]]\n",
      "\n",
      " [[17 14]\n",
      "  [14 13]]\n",
      "\n",
      " [[ 5  9]\n",
      "  [ 9 17]]]\n"
     ]
    },
    {
     "data": {
      "image/png": "[encoded data removed]",
      "text/plain": [
       "<matplotlib.figure.Figure at 0x106875b50>"
      ]
     },
     "metadata": {},
     "output_type": "display_data"
    }
   ],
   "source": [
    "ar = make_dist(n_centers=3, print_=True, plot=True)"
   ]
  },
  {
   "cell_type": "markdown",
   "metadata": {},
   "source": [
    "# sklearn K-means"
   ]
  },
  {
   "cell_type": "code",
   "execution_count": 34,
   "metadata": {},
   "outputs": [],
   "source": [
    "from sklearn.cluster import KMeans"
   ]
  },
  {
   "cell_type": "code",
   "execution_count": 37,
   "metadata": {},
   "outputs": [],
   "source": [
    "km = KMeans(n_clusters=3)"
   ]
  },
  {
   "cell_type": "code",
   "execution_count": 44,
   "metadata": {},
   "outputs": [
    {
     "name": "stdout",
     "output_type": "stream",
     "text": [
      "[[ -5.94274183   3.91796515]\n",
      " [ 16.00566318 -14.00942357]\n",
      " [ 14.19932743   2.94403838]]\n",
      "----------\n",
      "[[ 16.00717271 -14.01454377]\n",
      " [ 14.19583744   2.93637862]\n",
      " [ -5.94559546   3.92080442]]\n",
      "----------\n",
      "[[ -5.94274183   3.91796515]\n",
      " [ 16.00566318 -14.00942357]\n",
      " [ 14.19932743   2.94403838]]\n",
      "----------\n",
      "[[ 14.20452539   2.93951237]\n",
      " [ 16.00136228 -14.01515824]\n",
      " [ -5.94274183   3.91796515]]\n",
      "----------\n",
      "[[ -5.94559546   3.92080442]\n",
      " [ 14.18975749   2.94079851]\n",
      " [ 16.01238412 -14.00870237]]\n",
      "----------\n",
      "[[ 14.19932743   2.94403838]\n",
      " [ -5.94274183   3.91796515]\n",
      " [ 16.00566318 -14.00942357]]\n",
      "----------\n",
      "[[ 16.00938374 -14.01166744]\n",
      " [ -5.94274183   3.91796515]\n",
      " [ 14.19628789   2.94117663]]\n",
      "----------\n",
      "[[ 16.00136228 -14.01515824]\n",
      " [ -5.94274183   3.91796515]\n",
      " [ 14.20452539   2.93951237]]\n",
      "----------\n",
      "[[ 16.00566318 -14.00942357]\n",
      " [ -5.94274183   3.91796515]\n",
      " [ 14.19932743   2.94403838]]\n",
      "----------\n",
      "[[ 16.00566318 -14.00942357]\n",
      " [ -5.94274183   3.91796515]\n",
      " [ 14.19932743   2.94403838]]\n",
      "----------\n"
     ]
    }
   ],
   "source": [
    "for _ in range(10):\n",
    "    km.fit(ar)\n",
    "    print km.cluster_centers_\n",
    "    print \"-\"*10"
   ]
  },
  {
   "cell_type": "markdown",
   "metadata": {},
   "source": [
    "# K-Means"
   ]
  },
  {
   "cell_type": "code",
   "execution_count": 39,
   "metadata": {},
   "outputs": [],
   "source": [
    "def k_means(ar, n_means=2, seed=None):\n",
    "    if seed:\n",
    "        np.random.seed(seed)\n",
    "        \n",
    "    def inner_k():\n",
    "        means = np.random.randint(np.min(ar), np.max(ar), (n_means, ar.shape[1]))\n",
    "        new_means = np.empty_like(means, dtype=np.float64)\n",
    "        es = np.empty((ar.shape[0], n_means))\n",
    "        cond=True\n",
    "        while cond:\n",
    "            for i in range(n_means):\n",
    "                es[:,i] = (np.sqrt((ar - means[i])**2)).sum(axis=1)\n",
    "            closest_mean = es.argmin(axis=1)\n",
    "            for i in range(n_means):\n",
    "                new_means[i] = ar[closest_mean==i,:].mean(axis=0)\n",
    "            z = ((new_means - means)**2).sum()>1e-16\n",
    "            means = new_means\n",
    "            cond = z\n",
    "        return means\n",
    "    \n",
    "    bad_mean=True\n",
    "    while bad_mean:\n",
    "        means = inner_k()\n",
    "        bad_mean = np.isnan(means).any()\n",
    "    return means\n",
    "    "
   ]
  },
  {
   "cell_type": "code",
   "execution_count": 41,
   "metadata": {
    "scrolled": false
   },
   "outputs": [
    {
     "name": "stdout",
     "output_type": "stream",
     "text": [
      "[[ 15.0387411   -5.36938843]\n",
      " [ -3.38870414   8.84122809]\n",
      " [ -7.11237732   1.9337468 ]]\n",
      "--\n",
      "[[ -1.65408335  10.20549795]\n",
      " [ 16.13396207 -13.86229193]\n",
      " [  4.55578227   2.80114835]]\n",
      "--\n",
      "[[ 16.14352274 -13.86267788]\n",
      " [ -7.52363925   1.24077492]\n",
      " [  8.73804218   4.39453563]]\n",
      "--\n",
      "[[ -6.42097768   3.14419009]\n",
      " [ 11.8479637    7.30656401]\n",
      " [ 14.77023953  -7.41618556]]\n",
      "--\n",
      "[[ 15.89693021 -13.93147965]\n",
      " [ 19.4348527    6.53294169]\n",
      " [  1.67686043   2.93140367]]\n",
      "--\n",
      "[[ -6.0059254    3.99412461]\n",
      " [ 15.30678375   0.79024273]\n",
      " [ 14.59368696 -15.51387189]]\n",
      "--\n",
      "[[ 16.60922357   1.88482655]\n",
      " [ 14.89917011 -15.253025  ]\n",
      " [ -3.45535154   2.9745202 ]]\n",
      "--\n",
      "[[-11.18055158  -5.96270632]\n",
      " [ -5.86392438   4.25353205]\n",
      " [ 15.03937983  -5.3654777 ]]\n",
      "--\n",
      "[[ -6.0031412    3.99907722]\n",
      " [ 14.18086504   2.81824288]\n",
      " [ 15.93902491 -14.07829678]]\n",
      "--\n",
      "[[ 18.36398673  -0.02273087]\n",
      " [ 12.52250298  -9.41001935]\n",
      " [ -6.0059254    3.99412461]]\n",
      "--\n"
     ]
    },
    {
     "name": "stderr",
     "output_type": "stream",
     "text": [
      "/usr/local/lib/python2.7/site-packages/ipykernel_launcher.py:15: RuntimeWarning: Mean of empty slice.\n",
      "  from ipykernel import kernelapp as app\n"
     ]
    }
   ],
   "source": [
    "for _ in range(10):\n",
    "    print k_means(ar, n_means=3, seed=None)\n",
    "    print \"--\""
   ]
  },
  {
   "cell_type": "code",
   "execution_count": null,
   "metadata": {},
   "outputs": [],
   "source": []
  },
  {
   "cell_type": "code",
   "execution_count": null,
   "metadata": {},
   "outputs": [],
   "source": []
  },
  {
   "cell_type": "code",
   "execution_count": null,
   "metadata": {},
   "outputs": [],
   "source": []
  }
 ],
 "metadata": {
  "kernelspec": {
   "display_name": "Python 2",
   "language": "python",
   "name": "python2"
  },
  "language_info": {
   "codemirror_mode": {
    "name": "ipython",
    "version": 2
   },
   "file_extension": ".py",
   "mimetype": "text/x-python",
   "name": "python",
   "nbconvert_exporter": "python",
   "pygments_lexer": "ipython2",
   "version": "2.7.13"
  }
 },
 "nbformat": 4,
 "nbformat_minor": 1
}
